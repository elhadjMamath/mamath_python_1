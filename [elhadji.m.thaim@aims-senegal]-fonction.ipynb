{
 "cells": [
  {
   "cell_type": "code",
   "execution_count": 3,
   "id": "13a923be-a441-4e76-a745-ade648bdea46",
   "metadata": {},
   "outputs": [],
   "source": [
    "def my_square(x):\n",
    "    \"\"\"\n",
    "    this function computes the square of a given number \n",
    "    input: a number x.\n",
    "    output: the nsquare of x\n",
    "    \"\"\"\n",
    "    res = x*x\n",
    "    return res"
   ]
  },
  {
   "cell_type": "code",
   "execution_count": 4,
   "id": "c7062375-760e-4696-80f8-52bf9762da9a",
   "metadata": {},
   "outputs": [
    {
     "data": {
      "text/plain": [
       "25"
      ]
     },
     "execution_count": 4,
     "metadata": {},
     "output_type": "execute_result"
    }
   ],
   "source": [
    "my_square(5)"
   ]
  },
  {
   "cell_type": "code",
   "execution_count": null,
   "id": "96999ea9-d9e4-4f4b-9a54-e5f5113e49d3",
   "metadata": {},
   "outputs": [],
   "source": []
  },
  {
   "cell_type": "code",
   "execution_count": null,
   "id": "784a4726-4c8d-4eb6-b40c-aef60cdbced3",
   "metadata": {},
   "outputs": [],
   "source": [
    "def my_square(x)._doc_"
   ]
  },
  {
   "cell_type": "code",
   "execution_count": 7,
   "id": "8fd03423-0c57-4607-a5a6-5160281f9aaa",
   "metadata": {},
   "outputs": [],
   "source": [
    "def my_add(x,y):\n",
    "    \"\"\"\n",
    "    this function computes the sum of two given number \n",
    "    input: two number x and y.\n",
    "    output: the sum of x and y\n",
    "    \"\"\"\n",
    "    return x, y, x+y"
   ]
  },
  {
   "cell_type": "code",
   "execution_count": 8,
   "id": "11fffb3a-2b44-4444-a2f9-b8909f2bf0cb",
   "metadata": {},
   "outputs": [
    {
     "data": {
      "text/plain": [
       "(5, 8, 13)"
      ]
     },
     "execution_count": 8,
     "metadata": {},
     "output_type": "execute_result"
    }
   ],
   "source": [
    "my_add(5,8)"
   ]
  },
  {
   "cell_type": "code",
   "execution_count": 11,
   "id": "e8e6a38a-4009-4fe4-965e-c55600551e83",
   "metadata": {},
   "outputs": [],
   "source": [
    "def fact(n):\n",
    "    if n<=1:  #base case\n",
    "        return 1\n",
    "    return n*fact(n-1) #recursive step"
   ]
  },
  {
   "cell_type": "code",
   "execution_count": 12,
   "id": "ffe28f57-5262-4fc0-86ce-810c791c65f2",
   "metadata": {},
   "outputs": [
    {
     "data": {
      "text/plain": [
       "720"
      ]
     },
     "execution_count": 12,
     "metadata": {},
     "output_type": "execute_result"
    }
   ],
   "source": [
    "fact(6)"
   ]
  },
  {
   "cell_type": "code",
   "execution_count": 14,
   "id": "d0141dd7-d3ac-4d83-b509-a018299251db",
   "metadata": {},
   "outputs": [],
   "source": [
    "def fibinoci(n):\n",
    "    if n==0:\n",
    "        return 0\n",
    "    elif n==1:\n",
    "        return 1\n",
    "    else:\n",
    "        return fibinoci(n-1)+ fibinoci(n-1)\n",
    "        "
   ]
  },
  {
   "cell_type": "code",
   "execution_count": 16,
   "id": "cc6432ad-c06c-4fc9-83f8-5459a5e9a2b4",
   "metadata": {},
   "outputs": [
    {
     "data": {
      "text/plain": [
       "256"
      ]
     },
     "execution_count": 16,
     "metadata": {},
     "output_type": "execute_result"
    }
   ],
   "source": [
    "fibinoci(1)\n",
    "fibinoci(5)\n",
    "fibinoci(9)"
   ]
  },
  {
   "cell_type": "code",
   "execution_count": null,
   "id": "53dc3355-0ffe-40da-ad48-8581b08a12f4",
   "metadata": {},
   "outputs": [],
   "source": []
  }
 ],
 "metadata": {
  "kernelspec": {
   "display_name": "Python [conda env:base] *",
   "language": "python",
   "name": "conda-base-py"
  },
  "language_info": {
   "codemirror_mode": {
    "name": "ipython",
    "version": 3
   },
   "file_extension": ".py",
   "mimetype": "text/x-python",
   "name": "python",
   "nbconvert_exporter": "python",
   "pygments_lexer": "ipython3",
   "version": "3.12.7"
  }
 },
 "nbformat": 4,
 "nbformat_minor": 5
}
