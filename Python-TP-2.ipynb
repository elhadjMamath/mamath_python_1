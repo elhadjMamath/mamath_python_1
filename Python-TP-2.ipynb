{
 "cells": [
  {
   "cell_type": "code",
   "execution_count": null,
   "id": "97aaf727-97db-4182-bcc7-88b532a66e83",
   "metadata": {
    "id": "d68c1dee"
   },
   "outputs": [],
   "source": [
    "# Practical_2: String and files"
   ]
  },
  {
   "cell_type": "code",
   "execution_count": null,
   "id": "89478f95-f12b-46b7-b317-edd373ec7cc4",
   "metadata": {
    "id": "bea983a3"
   },
   "outputs": [],
   "source": [
    "---\n",
    "\n",
    "### Exercise 1:\n",
    "Create a string variable `text` and assign it the value `\"Python is amazing!\"`.\n",
    "\n",
    "```python\n",
    "# Exercise 1\n",
    "```\n",
    "\n",
    "---\n",
    "\n",
    "### Exercise 2:\n",
    "Find the length of the string `\"Hello, World!\"` and store it in a variable `length`.\n",
    "\n",
    "```python\n",
    "# Exercise 2\n",
    "```\n",
    "\n",
    "---\n",
    "\n",
    "### Exercise 3:\n",
    "Convert the string `\"python programming\"` to uppercase and store it in a variable `upper_text`.\n",
    "\n",
    "```python\n",
    "# Exercise 3\n",
    "```\n",
    "\n",
    "---\n",
    "\n",
    "### Exercise 4:\n",
    "Extract the first 5 characters from the string `\"Artificial Intelligence\"`.\n",
    "\n",
    "```python\n",
    "# Exercise 4\n",
    "```\n",
    "\n",
    "---\n",
    "\n",
    "### Exercise 5:\n",
    "Concatenate the strings `\"Hello\"` and `\"World\"` with a space in between.\n",
    "\n",
    "```python\n",
    "# Exercise 5\n",
    "```\n",
    "\n",
    "---\n",
    "\n",
    "### Exercise 6:\n",
    "Replace the word `\"dog\"` with `\"cat\"` in the string `\"The quick brown dog jumps over the lazy dog.\"`.\n",
    "\n",
    "```python\n",
    "# Exercise 6\n",
    "```\n",
    "\n",
    "---\n",
    "\n",
    "### Exercise 7:\n",
    "Split the string `\"apple,banana,orange\"` by commas and store the result in a list `fruits_list`.\n",
    "\n",
    "```python\n",
    "# Exercise 7\n",
    "```\n",
    "\n",
    "---\n",
    "\n",
    "### Exercise 8:\n",
    "Use string formatting to create the sentence `\"My name is Alice and I am 25 years old.\"`, where the name and age are variables.\n",
    "\n",
    "```python\n",
    "# Exercise 8\n",
    "```\n",
    "\n",
    "---\n",
    "\n",
    "### Exercise 9:\n",
    "Check if the string `\"python\"` is present in the sentence `\"I love python programming\"`.\n",
    "\n",
    "```python\n",
    "# Exercise 9\n",
    "```\n",
    "\n",
    "---\n",
    "\n",
    "### Exercise 10:\n",
    "Count the number of occurrences of the letter `\"e\"` in the string `\"Elephant is an elegant animal\"`.\n",
    "\n",
    "```python\n",
    "# Exercise 10\n",
    "```\n",
    "\n",
    "---\n",
    "\n",
    "### Exercise 11:\n",
    "Remove any leading and trailing spaces from the string `\"   Data Science   \"`.\n",
    "\n",
    "```python\n",
    "# Exercise 11\n",
    "```\n",
    "\n",
    "---\n",
    "\n",
    "### Exercise 12:\n",
    "Convert the string `\"100\"` into an integer and store it in a variable `int_value`.\n",
    "\n",
    "```python\n",
    "# Exercise 12\n",
    "```\n",
    "\n",
    "---\n",
    "\n",
    "### Exercise 13:\n",
    "Extract the substring `\"pro\"` from the string `\"programming\"`.\n",
    "\n",
    "```python\n",
    "# Exercise 13\n",
    "```\n",
    "\n",
    "---\n",
    "\n",
    "### Exercise 14:\n",
    "Check if the string `\"data\"` starts with `\"da\"` and ends with `\"ta\"`.\n",
    "\n",
    "```python\n",
    "# Exercise 14\n",
    "```\n",
    "\n",
    "---\n",
    "\n",
    "### Exercise 15:\n",
    "Reverse the string `\"machine learning\"` and store the result in `reversed_text`.\n",
    "\n",
    "```python\n",
    "# Exercise 15\n",
    "```\n",
    "\n",
    "---\n",
    "\n",
    "### Exercise 16:\n",
    "Convert the first letter of each word in the string `\"machine learning is fun\"` to uppercase.\n",
    "\n",
    "```python\n",
    "# Exercise 16\n",
    "```\n",
    "\n",
    "---\n",
    "\n",
    "### Exercise 17:\n",
    "Create a multiline string representing a poem and store it in a variable `poem`.\n",
    "\n",
    "```python\n",
    "# Exercise 17\n",
    "```\n",
    "\n",
    "---\n",
    "\n",
    "### Exercise 18:\n",
    "Write a string to a file named `\"output.txt\"`.\n",
    "\n",
    "```python\n",
    "# Exercise 18\n",
    "```\n",
    "\n",
    "---\n",
    "\n",
    "### Exercise 19:\n",
    "Read the contents of a file named `\"data.txt\"` and print it line by line.\n",
    "\n",
    "```python\n",
    "# Exercise 19\n",
    "```\n",
    "\n",
    "---\n",
    "\n",
    "### Exercise 20:\n",
    "Check if a file `\"example.txt\"` exists before opening it.\n",
    "\n",
    "```python\n",
    "# Exercise 20\n",
    "```\n",
    "\n",
    "---\n",
    "\n",
    "### Exercise 21:\n",
    "Append a new line `\"This is a new line\"` to an existing file `\"notes.txt\"`.\n",
    "\n",
    "```python\n",
    "# Exercise 21\n",
    "```\n",
    "\n",
    "---\n",
    "\n",
    "### Exercise 22:\n",
    "Read the contents of a file `\"log.txt\"` and store each line in a list `log_lines`.\n",
    "\n",
    "```python\n",
    "# Exercise 22\n",
    "```\n",
    "\n",
    "---\n",
    "\n",
    "### Exercise 23:\n",
    "Create a new file `\"report.txt\"` and write the string `\"Data analysis report\"` to it.\n",
    "\n",
    "```python\n",
    "# Exercise 23\n",
    "```\n",
    "\n",
    "---\n",
    "\n",
    "### Exercise 24:\n",
    "Replace the word `\"error\"` with `\"issue\"` in a file `\"log.txt\"`.\n",
    "\n",
    "```python\n",
    "# Exercise 24\n",
    "```\n",
    "\n",
    "---\n",
    "\n",
    "### Exercise 25:\n",
    "Count the number of words in a text file `\"document.txt\"`.\n",
    "\n",
    "```python\n",
    "# Exercise 25\n",
    "```\n",
    "\n",
    "---\n",
    "\n",
    "### Exercise 26:\n",
    "Write a Python script that reads a file `\"essay.txt\"` and prints the total number of lines, words, and characters.\n",
    "\n",
    "```python\n",
    "# Exercise 26\n",
    "```\n",
    "\n",
    "---\n",
    "\n",
    "### Exercise 27:\n",
    "Copy the contents of one file `\"source.txt\"` to another file `\"destination.txt\"`.\n",
    "\n",
    "```python\n",
    "# Exercise 27\n",
    "```\n",
    "\n",
    "---\n",
    "\n",
    "### Exercise 28:\n",
    "Write a Python function that takes a filename as input and returns the number of lines in the file.\n",
    "\n",
    "```python\n",
    "# Exercise 28\n",
    "```\n",
    "\n",
    "---\n",
    "\n",
    "### Exercise 29:\n",
    "Extract all the words from a text file `\"article.txt\"` that contain more than 5 characters.\n",
    "\n",
    "```python\n",
    "# Exercise 29\n",
    "```\n",
    "\n",
    "---\n",
    "\n",
    "### Exercise 30:\n",
    "Convert the contents of a file `\"notes.txt\"` to uppercase and save the result in another file `\"uppercase_notes.txt\"`.\n",
    "\n",
    "```python\n",
    "# Exercise 30\n",
    "```\n",
    "\n",
    "---\n",
    "\n",
    "### Exercise 31:\n",
    "Write a Python script that reads a file and removes all empty lines.\n",
    "\n",
    "```python\n",
    "# Exercise 31\n",
    "```\n",
    "\n",
    "---\n",
    "\n",
    "### Exercise 32:\n",
    "Open a file `\"config.txt\"` in both read and write mode.\n",
    "\n",
    "```python\n",
    "# Exercise 32\n",
    "```\n",
    "\n",
    "---\n",
    "\n",
    "### Exercise 33:\n",
    "Write a Python function that reads a file and prints the longest line in the file.\n",
    "\n",
    "```python\n",
    "# Exercise 33\n",
    "```\n",
    "\n",
    "---\n",
    "\n",
    "### Exercise 34:\n",
    "Write a Python script to count the frequency of each letter in a text file `\"message.txt\"`.\n",
    "\n",
    "```python\n",
    "# Exercise 34\n",
    "```\n",
    "\n",
    "---\n",
    "\n",
    "### Exercise 35:\n",
    "Write a Python script that reads a file and prints the total number of characters, excluding spaces.\n",
    "\n",
    "```python\n",
    "# Exercise 35\n",
    "```\n",
    "\n",
    "---\n",
    "\n",
    "### Exercise 36:\n",
    "Create a Python script to check whether a file is empty or not.\n",
    "\n",
    "```python\n",
    "# Exercise 36\n",
    "```\n",
    "\n",
    "---\n",
    "\n",
    "### Exercise 37:\n",
    "Write a Python function that reads a file and removes all punctuation marks from the text.\n",
    "\n",
    "```python\n",
    "# Exercise 37\n",
    "```\n",
    "\n",
    "---\n",
    "\n",
    "### Exercise 38:\n",
    "Create a Python function that writes a list of strings to a file, each string on a new line.\n",
    "\n",
    "```python\n",
    "# Exercise 38\n",
    "```\n",
    "\n",
    "---\n",
    "\n",
    "### Exercise 39:\n",
    "Write a Python script to count the number of lines that start with a specific letter (e.g., \"A\") in a text file.\n",
    "\n",
    "```python\n",
    "# Exercise 39\n",
    "```\n",
    "\n",
    "---\n",
    "\n",
    "### Exercise 40:\n",
    "Write a Python function that takes a string as input and writes it to a file `\"output.txt\"` in reverse order.\n",
    "\n",
    "```python\n",
    "# Exercise 40\n",
    "```\n",
    "\n",
    "---\n",
    "\n",
    "### Exercise 41:\n",
    "Write a Python script that reads a file and prints all the lines that contain the word `\"Python\"`.\n",
    "\n",
    "```python\n",
    "# Exercise 41\n",
    "```\n",
    "\n",
    "---\n",
    "\n",
    "### Exercise 42:\n",
    "Write a Python script that opens a file and removes all numeric digits from the file's content.\n",
    "\n",
    "```python\n",
    "# Exercise 42\n",
    "```\n",
    "\n",
    "---\n",
    "\n",
    "### Exercise 43:\n",
    "Write a Python script to find the most frequent word in a text file `\"book.txt\"`.\n",
    "\n",
    "```python\n",
    "# Exercise 43\n",
    "```\n",
    "\n",
    "---\n",
    "\n",
    "### Exercise 44:\n",
    "Write a Python script that reads a file and prints all the lines that contain exactly 5 words.\n",
    "\n",
    "```python\n",
    "# Exercise 44\n",
    "```\n",
    "\n",
    "---\n",
    "\n",
    "### Exercise 45:\n",
    "Write a Python script to read a file and print the first and last line of the file.\n",
    "\n",
    "```python\n",
    "# Exercise 45\n",
    "```\n",
    "\n",
    "---\n",
    "\n",
    "### Exercise 46:\n",
    "Write a Python script that checks if a file `\"students.txt\"` is writable.\n",
    "\n",
    "```python\n",
    "# Exercise 46\n",
    "```\n",
    "\n",
    "---\n",
    "\n",
    "### Exercise 47:\n",
    "Create a Python function that opens a file and returns the number of unique words in the file.\n",
    "\n",
    "```python\n",
    "# Exercise 47\n",
    "```\n",
    "\n",
    "---\n",
    "\n",
    "### Exercise 48:\n",
    "Write a Python script that reads a file and prints all lines in reverse order.\n",
    "\n",
    "```python\n",
    "# Exercise 48\n",
    "```\n",
    "\n",
    "---\n",
    "\n",
    "### Exercise 49:\n",
    "Write a Python function that reads a file and returns the most common letter in the text.\n",
    "\n",
    "```python\n",
    "# Exercise 49\n",
    "```\n",
    "\n",
    "---\n",
    "\n",
    "### Exercise 50:\n",
    "Write a Python script that reads a file and replaces every occurrence of `\"Python\"` with `\"Java\"`.\n",
    "\n",
    "```python\n",
    "# Exercise 50\n",
    "```\n",
    "\n",
    "---\n",
    "\n"
   ]
  },
  {
   "cell_type": "code",
   "execution_count": null,
   "id": "3e47082a-e222-434f-aa5f-f523dbd66274",
   "metadata": {},
   "outputs": [],
   "source": []
  },
  {
   "cell_type": "markdown",
   "id": "90a3ff13-1186-488a-a300-d42b6f9a8bf8",
   "metadata": {
    "id": "dcf6ca38"
   },
   "source": [
    "# TP2"
   ]
  },
  {
   "cell_type": "code",
   "execution_count": 11,
   "id": "7644cb9e-de1b-4213-ac26-447136a7a775",
   "metadata": {},
   "outputs": [],
   "source": [
    "#EXERCICE 1\n",
    "text = \"Python is amazing!\""
   ]
  },
  {
   "cell_type": "code",
   "execution_count": 5,
   "id": "308345f5-fa6f-4029-a8fc-fa8eaa3eb023",
   "metadata": {},
   "outputs": [
    {
     "data": {
      "text/plain": [
       "13"
      ]
     },
     "execution_count": 5,
     "metadata": {},
     "output_type": "execute_result"
    }
   ],
   "source": [
    "length = len(\"Hello, World!\") \n",
    "length"
   ]
  },
  {
   "cell_type": "code",
   "execution_count": 8,
   "id": "b9e5975d-c35e-4516-8094-010f4d59db92",
   "metadata": {},
   "outputs": [
    {
     "data": {
      "text/plain": [
       "'The quick brown cat jumps over the lazy cat.'"
      ]
     },
     "execution_count": 8,
     "metadata": {},
     "output_type": "execute_result"
    }
   ],
   "source": [
    "upper_text = \"python programming\".upper()\n",
    "upper_text = \"python programming\".upper()\n",
    "result = \"Hello\" + \" \" + \"World\"\n",
    "sentence = \"The quick brown dog jumps over the lazy dog.\" \n",
    "new_sentence = sentence.replace(\"dog\", \"cat\")\n",
    "new_sentence\n"
   ]
  },
  {
   "cell_type": "code",
   "execution_count": null,
   "id": "0bbc6876-fa4e-4f3b-abe4-e6217f644b29",
   "metadata": {},
   "outputs": [],
   "source": [
    "fruits_list = \"apple,banana,orange\".split(\",\")\n",
    "fruits_list"
   ]
  },
  {
   "cell_type": "code",
   "execution_count": 9,
   "id": "fbefe06c-c312-4ac7-8f40-0469a0e09a8f",
   "metadata": {},
   "outputs": [
    {
     "data": {
      "text/plain": [
       "'My name is Alice and I am 25 years old.'"
      ]
     },
     "execution_count": 9,
     "metadata": {},
     "output_type": "execute_result"
    }
   ],
   "source": [
    "name = \"Alice\" \n",
    "age = 25 \n",
    "sentence = f\"My name is {name} and I am {age} years old.\"\n",
    "sentence"
   ]
  },
  {
   "cell_type": "code",
   "execution_count": 14,
   "id": "7a515eb8-e161-4bef-9e72-3e4ff125ea09",
   "metadata": {},
   "outputs": [
    {
     "data": {
      "text/plain": [
       "True"
      ]
     },
     "execution_count": 14,
     "metadata": {},
     "output_type": "execute_result"
    }
   ],
   "source": [
    "text = \"I love python programming\"  \n",
    "is_present = \"python\" in text\n",
    "is_present"
   ]
  },
  {
   "cell_type": "code",
   "execution_count": 16,
   "id": "e687bd07-b8cd-4405-883d-1205f741ea3a",
   "metadata": {},
   "outputs": [
    {
     "data": {
      "text/plain": [
       "3"
      ]
     },
     "execution_count": 16,
     "metadata": {},
     "output_type": "execute_result"
    }
   ],
   "source": [
    "text = \"Elephant is an elegant animal\";count = text.count(\"e\");count "
   ]
  },
  {
   "cell_type": "code",
   "execution_count": 20,
   "id": "ec293619-b645-4dce-8eb3-5469ed483040",
   "metadata": {},
   "outputs": [
    {
     "data": {
      "text/plain": [
       "'Data Science'"
      ]
     },
     "execution_count": 20,
     "metadata": {},
     "output_type": "execute_result"
    }
   ],
   "source": [
    "# EXERCICE 11\n",
    "text = \"  Data Science  \" ;cleaned_text = text.strip()\n",
    "cleaned_text"
   ]
  },
  {
   "cell_type": "code",
   "execution_count": 23,
   "id": "297d016d-b06c-4520-b95b-81e1327e781d",
   "metadata": {},
   "outputs": [
    {
     "data": {
      "text/plain": [
       "100"
      ]
     },
     "execution_count": 23,
     "metadata": {},
     "output_type": "execute_result"
    }
   ],
   "source": [
    "number = \"100\" ; int_value = int(number)\n",
    "int_value"
   ]
  },
  {
   "cell_type": "code",
   "execution_count": 26,
   "id": "322d4232-a1b1-4a01-b5ff-b630c198eca4",
   "metadata": {},
   "outputs": [
    {
     "data": {
      "text/plain": [
       "'pro'"
      ]
     },
     "execution_count": 26,
     "metadata": {},
     "output_type": "execute_result"
    }
   ],
   "source": [
    "text = \"programming\" ; substring = text[:3]\n",
    "substring"
   ]
  },
  {
   "cell_type": "code",
   "execution_count": null,
   "id": "a59f9224-7f53-4086-8e97-a5441bea4bfd",
   "metadata": {},
   "outputs": [],
   "source": [
    "\"machine learning\" and store the result in reversed_text"
   ]
  },
  {
   "cell_type": "code",
   "execution_count": 27,
   "id": "9c01c81e-cf13-4ef5-8c48-48008f0888da",
   "metadata": {},
   "outputs": [],
   "source": [
    "text = \"machine learning\"\n",
    "reversed_text = text[::-1] "
   ]
  },
  {
   "cell_type": "code",
   "execution_count": 29,
   "id": "300acffc-bfd7-4bcd-9475-82270c78ad69",
   "metadata": {},
   "outputs": [
    {
     "name": "stdout",
     "output_type": "stream",
     "text": [
      "Roses are red,\n",
      "Violets are blue,\n",
      "Python is fun,\n",
      "And so are you.\n"
     ]
    }
   ],
   "source": [
    "#Exercise 17\n",
    "poem = \"\"\"Roses are red,\n",
    "Violets are blue,\n",
    "Python is fun,\n",
    "And so are you.\"\"\"\n",
    "print(poem)"
   ]
  },
  {
   "cell_type": "code",
   "execution_count": 39,
   "id": "d08dfe3a-2a5b-4346-abb1-e1a637bb6054",
   "metadata": {},
   "outputs": [],
   "source": [
    "#EXERCICE 31\n",
    "text = \"Ceci est un exemple de texte à écrire dans le fichier.\"\n",
    "\n",
    "with open(\"output.txt\", \"w\") as f:\n",
    "    f.write(text)"
   ]
  },
  {
   "cell_type": "code",
   "execution_count": 40,
   "id": "159dcb76-a457-40bd-9f59-648889ae4d0b",
   "metadata": {},
   "outputs": [],
   "source": [
    "test = (\" pour tester si cette technique marche. a la fin du code et son execution,verifion ce fichier nommer thiam.txt dans le mem dossier de ce titre du code\")\n",
    "with open(\"thiam.txt\",\"w\") as t:\n",
    "    t.write(test)"
   ]
  },
  {
   "cell_type": "code",
   "execution_count": null,
   "id": "34ff98e4-ea2f-4ce3-b36e-98d465dd22b1",
   "metadata": {},
   "outputs": [],
   "source": [
    "# Open the file in read mode\n",
    "with open(\"appaloosa.txt\", \"r\") as file:\n",
    "    for line in file:\n",
    "               print(line.strip())\n"
   ]
  },
  {
   "cell_type": "code",
   "execution_count": null,
   "id": "2a404162-ae48-4a64-a979-f4019d164fd8",
   "metadata": {},
   "outputs": [],
   "source": []
  },
  {
   "cell_type": "code",
   "execution_count": null,
   "id": "9797740d-f1fa-40a5-839a-c9b973bd1c7c",
   "metadata": {},
   "outputs": [],
   "source": []
  },
  {
   "cell_type": "code",
   "execution_count": null,
   "id": "ad945811-5b83-4fbb-aa0b-9928e006f0f5",
   "metadata": {},
   "outputs": [],
   "source": []
  }
 ],
 "metadata": {
  "colab": {
   "provenance": []
  },
  "kernelspec": {
   "display_name": "Python [conda env:base] *",
   "language": "python",
   "name": "conda-base-py"
  },
  "language_info": {
   "codemirror_mode": {
    "name": "ipython",
    "version": 3
   },
   "file_extension": ".py",
   "mimetype": "text/x-python",
   "name": "python",
   "nbconvert_exporter": "python",
   "pygments_lexer": "ipython3",
   "version": "3.12.7"
  }
 },
 "nbformat": 4,
 "nbformat_minor": 5
}
