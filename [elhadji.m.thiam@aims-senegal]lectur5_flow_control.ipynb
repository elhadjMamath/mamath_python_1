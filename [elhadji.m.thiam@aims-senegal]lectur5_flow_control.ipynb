{
 "cells": [
  {
   "cell_type": "code",
   "execution_count": 1,
   "id": "e55d1f83-7b1c-410f-a1bd-d85972efa510",
   "metadata": {},
   "outputs": [
    {
     "name": "stdout",
     "output_type": "stream",
     "text": [
      "10\n"
     ]
    }
   ],
   "source": [
    "a=10\n",
    "print(a)"
   ]
  },
  {
   "cell_type": "code",
   "execution_count": 6,
   "id": "793a6c98-9fc1-4a91-8df3-0d320c52d2cc",
   "metadata": {},
   "outputs": [],
   "source": [
    "#if___ :___ else\n",
    "if a < 0:\n",
    "    print(a,\"is cool\")"
   ]
  },
  {
   "cell_type": "code",
   "execution_count": 7,
   "id": "fe654e12-5b02-45fb-9638-067e059c885a",
   "metadata": {},
   "outputs": [
    {
     "name": "stdout",
     "output_type": "stream",
     "text": [
      "10 is cool\n"
     ]
    }
   ],
   "source": [
    "if a > 0:\n",
    "    print(a,\"is cool\")"
   ]
  },
  {
   "cell_type": "code",
   "execution_count": 12,
   "id": "efe92391-2719-4225-8f34-3f6439d31f44",
   "metadata": {},
   "outputs": [
    {
     "name": "stdout",
     "output_type": "stream",
     "text": [
      "45 is not cool\n"
     ]
    }
   ],
   "source": [
    "a = 45 \n",
    "if a > 0:\n",
    "    print(a,\"is not cool\")\n",
    "else:\n",
    "    print(a,\"is cool\")\n",
    "    "
   ]
  },
  {
   "cell_type": "markdown",
   "id": "7d19583a-4b14-4c6e-a10b-76eb14607d89",
   "metadata": {},
   "source": [
    "a = 0 \n",
    "if a < 0:\n",
    "    print(a,\"is not cool\")\n",
    "elif a == 0:\n",
    "    print(a,\"is really cool\")\n",
    "else:\n",
    "    print(a,\"is cool\")"
   ]
  },
  {
   "cell_type": "code",
   "execution_count": 16,
   "id": "977d74bc-7fbf-4cca-9f82-6471837ba331",
   "metadata": {},
   "outputs": [
    {
     "name": "stdout",
     "output_type": "stream",
     "text": [
      "a is greatter than b\n",
      " the difference between a and b is 5 or least\n"
     ]
    }
   ],
   "source": [
    "a = 15\n",
    "b = 10\n",
    "if a > b:\n",
    "    print(\"a is greatter than b\")\n",
    "    if a - b > 5:\n",
    "        print(\" the difference between a and b is greatter than 5 \")\n",
    "    else:\n",
    "         print(\" the difference between a and b is 5 or least\")\n",
    "else:\n",
    "    print(\"a nest pas plus grand que b\")"
   ]
  },
  {
   "cell_type": "code",
   "execution_count": 17,
   "id": "03ce3999-d96c-41ab-bcc5-3d835a353423",
   "metadata": {},
   "outputs": [
    {
     "name": "stdout",
     "output_type": "stream",
     "text": [
      "h\n",
      "t\n",
      "s\n",
      "j\n",
      "c\n"
     ]
    }
   ],
   "source": [
    "# boucle for\n",
    "for char in 'htsjc':\n",
    "    print(char)"
   ]
  },
  {
   "cell_type": "code",
   "execution_count": 24,
   "id": "9d360a82-3898-4de5-a316-91bd0c8d0eb7",
   "metadata": {},
   "outputs": [
    {
     "name": "stdout",
     "output_type": "stream",
     "text": [
      "htsjc\n",
      "c\n",
      "gsjy\n",
      "y\n",
      "gxjydt\n",
      "t\n"
     ]
    }
   ],
   "source": [
    "for char in ['htsjc','gsjy','gxjydt']:\n",
    "    print(char)\n",
    "    print(char[-1])"
   ]
  },
  {
   "cell_type": "code",
   "execution_count": null,
   "id": "c089345e-741a-4bf6-9d99-1a8fcd7ae41b",
   "metadata": {},
   "outputs": [],
   "source": [
    "cher = 1 \n",
    "while cher < 7:\n",
    "    print(cher**2)\n",
    "    cher+=1"
   ]
  },
  {
   "cell_type": "code",
   "execution_count": 27,
   "id": "1509196b-c2dd-4355-8cef-c28173d49114",
   "metadata": {},
   "outputs": [
    {
     "name": "stdout",
     "output_type": "stream",
     "text": [
      "1\n",
      "===================\n",
      "4\n",
      "===================\n",
      "9\n",
      "===================\n",
      "16\n",
      "===================\n",
      "25\n",
      "===================\n",
      "36\n",
      "===================\n"
     ]
    }
   ],
   "source": [
    "cher = 1 \n",
    "while cher < 7:\n",
    "    print(cher**2)\n",
    "    print(\"===================\")\n",
    "    cher += 1   "
   ]
  },
  {
   "cell_type": "code",
   "execution_count": 29,
   "id": "321829ee-87be-4621-9687-c2528cbddb9c",
   "metadata": {},
   "outputs": [
    {
     "data": {
      "text/plain": [
       "[6, 0, 4, 4]"
      ]
     },
     "execution_count": 29,
     "metadata": {},
     "output_type": "execute_result"
    }
   ],
   "source": [
    "even = []\n",
    "list_number = [6,7,9,0,4,3,3,4,1,9,5]\n",
    "for i in list_number:\n",
    "    if i%2 == 0:\n",
    "        even.append(i)\n",
    "\n",
    "even"
   ]
  },
  {
   "cell_type": "code",
   "execution_count": 41,
   "id": "387a80a5-d6c5-4a6c-8eb3-d6f3a74beae4",
   "metadata": {},
   "outputs": [
    {
     "name": "stdout",
     "output_type": "stream",
     "text": [
      "the sum of odd number is 37\n"
     ]
    }
   ],
   "source": [
    "#odd = []\n",
    "sum_odd = 0\n",
    "list_number = [6,7,9,0,4,3,3,4,1,9,5]\n",
    "for i in list_number:\n",
    "    if i%2 != 0:\n",
    "        sum_odd += i\n",
    "        #odd.append(i)\n",
    "#for j in odd:\n",
    "    #sum_odd += j \n",
    "#print(f'the listb of odd numbers is {odd}')\n",
    "print(f'the sum of odd number is {sum_odd}')"
   ]
  },
  {
   "cell_type": "code",
   "execution_count": 42,
   "id": "01143e77-6f16-489f-9cd0-bec910036a04",
   "metadata": {},
   "outputs": [
    {
     "name": "stdout",
     "output_type": "stream",
     "text": [
      "H\n",
      "e\n",
      "l\n",
      "l\n",
      "o\n",
      " \n",
      "w\n",
      "o\n",
      "r\n",
      "l\n",
      "d\n"
     ]
    }
   ],
   "source": [
    "# Boucle « for.. in... » sur une chaine de caractères\n",
    "listch = \"Hello world\"\n",
    "for i in listch :\n",
    "    print ( i )"
   ]
  },
  {
   "cell_type": "code",
   "execution_count": 43,
   "id": "d835522f-b8b7-4c7f-a3d6-703f6323b33f",
   "metadata": {},
   "outputs": [
    {
     "name": "stdout",
     "output_type": "stream",
     "text": [
      "La lettre H est une consonne\n",
      "La lettre e est une voyelle\n",
      "La lettre l est une consonne\n",
      "La lettre l est une consonne\n",
      "La lettre o est une voyelle\n",
      "La lettre   est une consonne\n",
      "La lettre W est une consonne\n",
      "La lettre o est une voyelle\n",
      "La lettre r est une consonne\n",
      "La lettre l est une consonne\n",
      "La lettre d est une consonne\n"
     ]
    }
   ],
   "source": [
    "# Combining a `for...in...` Loop with an `if` Clause\n",
    "mych = \"Hello World\"\n",
    "les_voyel = \"AEIOUYaeiouy\"\n",
    "for lettre in mych :\n",
    "    if lettre in les_voyel :\n",
    "        print ('La lettre', lettre, 'est une voyelle')\n",
    "    else :\n",
    "        print ('La lettre', lettre, 'est une consonne')"
   ]
  },
  {
   "cell_type": "code",
   "execution_count": 46,
   "id": "fc9f168f-9e43-473c-a9a8-203649eefa56",
   "metadata": {},
   "outputs": [
    {
     "name": "stdout",
     "output_type": "stream",
     "text": [
      "A mangue costs 49 Rwandan francs.\n",
      "A orange costs 99 Rwandan francs.\n",
      "A pomme costs 15 Rwandan francs.\n",
      "A banane costs 32 Rwandan francs.\n"
     ]
    }
   ],
   "source": [
    "fruits = ['mangue', 'orange', 'pomme', 'banane']\n",
    "costs = [49, 99, 15, 32]\n",
    "for fruit, price in zip(fruits, costs):\n",
    "    print(\"A\", fruit, \"costs\", price, \"Rwandan francs.\")"
   ]
  },
  {
   "cell_type": "code",
   "execution_count": null,
   "id": "c2abf1f3-2f69-4267-a990-73d640bc8182",
   "metadata": {},
   "outputs": [],
   "source": []
  },
  {
   "cell_type": "code",
   "execution_count": 47,
   "id": "c352c4cd-b79e-4c4c-a163-8a7977e0cc4a",
   "metadata": {},
   "outputs": [
    {
     "name": "stdout",
     "output_type": "stream",
     "text": [
      "[4, 16, 36, 64, 100]\n"
     ]
    }
   ],
   "source": []
  },
  {
   "cell_type": "markdown",
   "id": "4e28782d-712b-4637-8e92-bdafbf70652d",
   "metadata": {},
   "source": [
    "# List comprehension"
   ]
  },
  {
   "cell_type": "code",
   "execution_count": 48,
   "id": "566f1642-ef4d-4e7e-af6e-83a8ca827cdc",
   "metadata": {},
   "outputs": [
    {
     "name": "stdout",
     "output_type": "stream",
     "text": [
      "[4, 16, 36, 64, 100]\n"
     ]
    }
   ],
   "source": [
    "squares = [x**2 for x in range(1, 11) if x % 2 == 0]\n",
    "print(squares)"
   ]
  },
  {
   "cell_type": "code",
   "execution_count": null,
   "id": "edeeda8d-0529-4c3c-933c-d2b4caa6075d",
   "metadata": {},
   "outputs": [],
   "source": [
    "liste = [2, 4, 6, 8, 10]\n",
    "\n",
    "print([3*x for x in liste])\n",
    "print(\"================================================\")\n",
    "print('\\t')\n",
    "\n",
    "print([[x, x**3] for x in liste])\n",
    "print(\"================================================\")\n",
    "print('\\t')\n",
    "\n",
    "print([3*x for x in liste if x > 5])  # filtering with a condition\n",
    "print(\"================================================\")\n",
    "print('\\t')\n",
    "\n",
    "print([3*x for x in liste if x**2 < 50])  # same as above\n",
    "print(\"================================================\")\n",
    "print('\\t')\n",
    "\n",
    "liste2 = list(range(3))\n",
    "print([x*y for x in liste for y in liste2])\n",
    "# il prend un element de list puis le multipli a tous les ement de list2 ainsi de suit\n",
    "liste2\n",
    "# print('\\t') cest espace entr les ligne "
   ]
  },
  {
   "cell_type": "markdown",
   "id": "a8f43921-2fe3-4fe9-8f15-df1fb04f7642",
   "metadata": {},
   "source": [
    "# la commande break"
   ]
  },
  {
   "cell_type": "code",
   "execution_count": 51,
   "id": "8fee50c3-a387-4428-b90c-6901bb6f483a",
   "metadata": {},
   "outputs": [
    {
     "name": "stdout",
     "output_type": "stream",
     "text": [
      "3\n"
     ]
    }
   ],
   "source": [
    "for i in range(5):\n",
    "    if i > 2:\n",
    "        break\n",
    "print(i)"
   ]
  },
  {
   "cell_type": "code",
   "execution_count": 65,
   "id": "48d6fc4b-4062-4009-aa10-eac217cad059",
   "metadata": {},
   "outputs": [
    {
     "name": "stdout",
     "output_type": "stream",
     "text": [
      "3\n"
     ]
    }
   ],
   "source": [
    "for i in range(1,17,2):\n",
    "    if i%3 == 0:\n",
    "        print(i)\n",
    "        break\n"
   ]
  },
  {
   "cell_type": "code",
   "execution_count": 67,
   "id": "03e39dae-9c72-4d7b-ace3-5a75d873faba",
   "metadata": {},
   "outputs": [
    {
     "name": "stdout",
     "output_type": "stream",
     "text": [
      "0\n",
      "1\n",
      "3\n",
      "4\n"
     ]
    }
   ],
   "source": [
    "for i in range(5):\n",
    "    if i == 2:\n",
    "        continue\n",
    "    print(i)"
   ]
  },
  {
   "cell_type": "code",
   "execution_count": null,
   "id": "85e94279-258b-40ca-b605-06c5f7248d23",
   "metadata": {},
   "outputs": [],
   "source": []
  }
 ],
 "metadata": {
  "kernelspec": {
   "display_name": "Python [conda env:base] *",
   "language": "python",
   "name": "conda-base-py"
  },
  "language_info": {
   "codemirror_mode": {
    "name": "ipython",
    "version": 3
   },
   "file_extension": ".py",
   "mimetype": "text/x-python",
   "name": "python",
   "nbconvert_exporter": "python",
   "pygments_lexer": "ipython3",
   "version": "3.12.7"
  }
 },
 "nbformat": 4,
 "nbformat_minor": 5
}
