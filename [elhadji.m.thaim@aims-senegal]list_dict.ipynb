{
 "cells": [
  {
   "cell_type": "markdown",
   "id": "6b0b3c4d-06df-4759-b040-07102d98b47f",
   "metadata": {},
   "source": [
    "## Liste"
   ]
  },
  {
   "cell_type": "code",
   "execution_count": 2,
   "id": "80b105d2-d553-4595-9c96-991b3e93966c",
   "metadata": {},
   "outputs": [],
   "source": [
    "my_first_list = [\"Yae\",\"gaba\",30,1.83]"
   ]
  },
  {
   "cell_type": "code",
   "execution_count": 4,
   "id": "68e1a148-620d-49bc-b9ba-03cc95d470cd",
   "metadata": {},
   "outputs": [
    {
     "name": "stdout",
     "output_type": "stream",
     "text": [
      "['Yae', 'gaba', 30, 1.83]\n"
     ]
    }
   ],
   "source": [
    "print(my_first_list)"
   ]
  },
  {
   "cell_type": "code",
   "execution_count": 8,
   "id": "bff5811b-209b-4ae4-9576-a87c76376efc",
   "metadata": {},
   "outputs": [
    {
     "data": {
      "text/plain": [
       "list"
      ]
     },
     "execution_count": 8,
     "metadata": {},
     "output_type": "execute_result"
    }
   ],
   "source": [
    "type(my_first_list)"
   ]
  },
  {
   "cell_type": "code",
   "execution_count": 9,
   "id": "103f8c76-ea9a-4dba-96d0-e62cba12761e",
   "metadata": {},
   "outputs": [],
   "source": [
    "my_second_list=[\"Ola\",\"Tunde\",26,1.93]"
   ]
  },
  {
   "cell_type": "code",
   "execution_count": 11,
   "id": "19364604-ca3f-4ef0-8441-ce9e1282ac5d",
   "metadata": {},
   "outputs": [],
   "source": [
    "my_third_list=[\"Magloir\",\"Akeni\",41,1.72]"
   ]
  },
  {
   "cell_type": "code",
   "execution_count": 15,
   "id": "188e38f1-ede9-449c-9884-068044abdf3c",
   "metadata": {},
   "outputs": [
    {
     "data": {
      "text/plain": [
       "[['Yae', 'gaba', 30, 1.83],\n",
       " ['Ola', 'Tunde', 26, 1.93],\n",
       " ['Magloir', 'Akeni', 41, 1.72]]"
      ]
     },
     "execution_count": 15,
     "metadata": {},
     "output_type": "execute_result"
    }
   ],
   "source": [
    "my_family=[my_first_list,my_second_list,my_third_list]\n",
    "my_family"
   ]
  },
  {
   "cell_type": "code",
   "execution_count": 17,
   "id": "e7688d77-9181-4bc7-9ac9-b70d0e27b2a6",
   "metadata": {},
   "outputs": [
    {
     "data": {
      "text/plain": [
       "[['Yae', 'gaba', 30, 1.83], 'Yae', 'gaba', 30, 1.83]"
      ]
     },
     "execution_count": 17,
     "metadata": {},
     "output_type": "execute_result"
    }
   ],
   "source": [
    "my_family_1=[my_first_list,\"Yae\",\"gaba\",30,1.83]\n",
    "my_family_1"
   ]
  },
  {
   "cell_type": "code",
   "execution_count": 25,
   "id": "663ddcf9-14e4-4af2-bd16-466efb7e5451",
   "metadata": {},
   "outputs": [
    {
     "data": {
      "text/plain": [
       "list"
      ]
     },
     "execution_count": 25,
     "metadata": {},
     "output_type": "execute_result"
    }
   ],
   "source": [
    "type(my_family_1[0])"
   ]
  },
  {
   "cell_type": "code",
   "execution_count": 27,
   "id": "1a6ac1f1-f429-44b6-a23f-868e7d4d5faf",
   "metadata": {},
   "outputs": [
    {
     "data": {
      "text/plain": [
       "['Yae', 'gaba', 30, 1.83]"
      ]
     },
     "execution_count": 27,
     "metadata": {},
     "output_type": "execute_result"
    }
   ],
   "source": [
    "my_family_1[0]"
   ]
  },
  {
   "cell_type": "code",
   "execution_count": 21,
   "id": "74c0af57-14f9-44a6-ad32-93361921110d",
   "metadata": {},
   "outputs": [
    {
     "data": {
      "text/plain": [
       "1.83"
      ]
     },
     "execution_count": 21,
     "metadata": {},
     "output_type": "execute_result"
    }
   ],
   "source": [
    "my_family_1[0][3]"
   ]
  },
  {
   "cell_type": "code",
   "execution_count": 28,
   "id": "918ca390-5106-4a47-bd70-cacfc055c738",
   "metadata": {},
   "outputs": [
    {
     "data": {
      "text/plain": [
       "1.83"
      ]
     },
     "execution_count": 28,
     "metadata": {},
     "output_type": "execute_result"
    }
   ],
   "source": [
    "my_family_1[0][-1]"
   ]
  },
  {
   "cell_type": "code",
   "execution_count": 44,
   "id": "a01867bf-6c7e-4f99-9e9b-c995d0398aae",
   "metadata": {},
   "outputs": [],
   "source": [
    "my_1=[\"Yae\",\"gaba\",30,1.83]\n",
    "my_2=[\"AIMS SN\", \"Python\",14]"
   ]
  },
  {
   "cell_type": "code",
   "execution_count": 45,
   "id": "1aee5678-a0c5-43ff-91e2-530e67941866",
   "metadata": {},
   "outputs": [
    {
     "data": {
      "text/plain": [
       "['Yae', 'gaba', 30, 1.83, 'AIMS SN', 'Python', 14]"
      ]
     },
     "execution_count": 45,
     "metadata": {},
     "output_type": "execute_result"
    }
   ],
   "source": [
    "my_1 + my_2"
   ]
  },
  {
   "cell_type": "code",
   "execution_count": 46,
   "id": "449d98fd-6f3a-4126-b0c8-d19ef348df30",
   "metadata": {},
   "outputs": [],
   "source": [
    "my_1.append(8)"
   ]
  },
  {
   "cell_type": "code",
   "execution_count": 48,
   "id": "dc707303-1a15-4e6e-8b1d-548df685b80f",
   "metadata": {},
   "outputs": [
    {
     "data": {
      "text/plain": [
       "['Yae', 'gaba', 30, 1.83, 8]"
      ]
     },
     "execution_count": 48,
     "metadata": {},
     "output_type": "execute_result"
    }
   ],
   "source": [
    "my_1"
   ]
  },
  {
   "cell_type": "code",
   "execution_count": 49,
   "id": "071ce61d-3334-467c-a391-ed190b3b05ee",
   "metadata": {},
   "outputs": [],
   "source": [
    "my_1.extend([6])"
   ]
  },
  {
   "cell_type": "code",
   "execution_count": 53,
   "id": "e9a169ee-08ab-457f-bb1d-74a81deed1d0",
   "metadata": {},
   "outputs": [
    {
     "data": {
      "text/plain": [
       "['Yae', 'gaba', 30, 1.83, 8, 6]"
      ]
     },
     "execution_count": 53,
     "metadata": {},
     "output_type": "execute_result"
    }
   ],
   "source": [
    "my_1"
   ]
  },
  {
   "cell_type": "code",
   "execution_count": 54,
   "id": "547b1ba7-b83e-4db9-9e26-29ed9aa36d36",
   "metadata": {},
   "outputs": [],
   "source": [
    "my_1.append([7])"
   ]
  },
  {
   "cell_type": "code",
   "execution_count": 55,
   "id": "254041fa-77ca-4923-a61c-04dcef8e8cb5",
   "metadata": {},
   "outputs": [
    {
     "data": {
      "text/plain": [
       "True"
      ]
     },
     "execution_count": 55,
     "metadata": {},
     "output_type": "execute_result"
    }
   ],
   "source": [
    "2*my_1 == my_1 + my_1"
   ]
  },
  {
   "cell_type": "code",
   "execution_count": 56,
   "id": "17f29cce-9f7d-43f9-bb9e-7333f7424bae",
   "metadata": {},
   "outputs": [
    {
     "data": {
      "text/plain": [
       "['Yae', 'gaba', 30, 1.83, 8, 6, [7], 'Yae', 'gaba', 30, 1.83, 8, 6, [7]]"
      ]
     },
     "execution_count": 56,
     "metadata": {},
     "output_type": "execute_result"
    }
   ],
   "source": [
    "2*my_1"
   ]
  },
  {
   "cell_type": "code",
   "execution_count": 71,
   "id": "2b242565-c47a-42ad-b2e7-2cb2fb894557",
   "metadata": {},
   "outputs": [],
   "source": [
    "#2.4*my_1"
   ]
  },
  {
   "cell_type": "markdown",
   "id": "6f6e4937-a68c-4fe1-afec-ede5ec666390",
   "metadata": {},
   "source": [
    "\n",
    "\n",
    "## Dicti\n",
    "\n"
   ]
  },
  {
   "cell_type": "code",
   "execution_count": 63,
   "id": "d5b7821d-a075-49f7-b450-4133c88ac0fc",
   "metadata": {},
   "outputs": [],
   "source": [
    "my_dict_1 = {'people1':[\"Yae\",\"guy\",30,1.83], 'people2':[\"pathe\", \"gueuy\", 32, 1.5]}"
   ]
  },
  {
   "cell_type": "code",
   "execution_count": 64,
   "id": "1b9cd4c0-17a1-4a32-a4ba-383c36a633d6",
   "metadata": {},
   "outputs": [
    {
     "data": {
      "text/plain": [
       "{'people1': ['Yae', 'guy', 30, 1.83], 'people2': ['pathe', 'gueuy', 32, 1.5]}"
      ]
     },
     "execution_count": 64,
     "metadata": {},
     "output_type": "execute_result"
    }
   ],
   "source": [
    "my_dict_1"
   ]
  },
  {
   "cell_type": "code",
   "execution_count": 74,
   "id": "9ef45894-61f2-40df-92d8-edf0050dbe42",
   "metadata": {},
   "outputs": [],
   "source": [
    "my_dict ={'people3':[\"mamadou\", \"Bah\", 44, 1.77]}"
   ]
  },
  {
   "cell_type": "code",
   "execution_count": 75,
   "id": "841a51a0-860c-4ee0-b79e-bfa7fc610a71",
   "metadata": {},
   "outputs": [],
   "source": [
    "my_dict_2 = { 'people1':[\"Yae\",\"guy\",30,1.83], 'people2':[\"pathe\", \"gueuy\", 32, 1.5] ,'people3':[\"mamadou\", \"Bah\", 44, 1.77]  }"
   ]
  },
  {
   "cell_type": "code",
   "execution_count": 76,
   "id": "92ec79a9-70a6-46a4-9ade-a40ef7667356",
   "metadata": {},
   "outputs": [
    {
     "data": {
      "text/plain": [
       "{'people1': ['Yae', 'guy', 30, 1.83],\n",
       " 'people2': ['pathe', 'gueuy', 32, 1.5],\n",
       " 'people3': ['mamadou', 'Bah', 44, 1.77]}"
      ]
     },
     "execution_count": 76,
     "metadata": {},
     "output_type": "execute_result"
    }
   ],
   "source": [
    "my_dict_2"
   ]
  },
  {
   "cell_type": "code",
   "execution_count": 77,
   "id": "85aa9a69-71bd-4d74-84cc-ec0bf4ec8e12",
   "metadata": {},
   "outputs": [
    {
     "data": {
      "text/plain": [
       "dict_items([('people1', ['Yae', 'guy', 30, 1.83]), ('people2', ['pathe', 'gueuy', 32, 1.5]), ('people3', ['mamadou', 'Bah', 44, 1.77])])"
      ]
     },
     "execution_count": 77,
     "metadata": {},
     "output_type": "execute_result"
    }
   ],
   "source": [
    "my_dict_2.items()"
   ]
  },
  {
   "cell_type": "code",
   "execution_count": 78,
   "id": "c47de5ff-e409-41ca-b9dd-3e503c76a399",
   "metadata": {},
   "outputs": [
    {
     "data": {
      "text/plain": [
       "dict_keys(['people1', 'people2', 'people3'])"
      ]
     },
     "execution_count": 78,
     "metadata": {},
     "output_type": "execute_result"
    }
   ],
   "source": [
    "my_dict_2.keys()"
   ]
  },
  {
   "cell_type": "code",
   "execution_count": 79,
   "id": "93f0a2fa-3522-419b-9428-526d322ceffc",
   "metadata": {},
   "outputs": [
    {
     "data": {
      "text/plain": [
       "dict_values([['Yae', 'guy', 30, 1.83], ['pathe', 'gueuy', 32, 1.5], ['mamadou', 'Bah', 44, 1.77]])"
      ]
     },
     "execution_count": 79,
     "metadata": {},
     "output_type": "execute_result"
    }
   ],
   "source": [
    "my_dict_2.values()"
   ]
  },
  {
   "cell_type": "code",
   "execution_count": 81,
   "id": "ce04efd8-4775-4afe-8f7e-705ef1a23d32",
   "metadata": {},
   "outputs": [
    {
     "data": {
      "text/plain": [
       "\u001b[0;31mDocstring:\u001b[0m\n",
       "D.update([E, ]**F) -> None.  Update D from dict/iterable E and F.\n",
       "If E is present and has a .keys() method, then does:  for k in E: D[k] = E[k]\n",
       "If E is present and lacks a .keys() method, then does:  for k, v in E: D[k] = v\n",
       "In either case, this is followed by: for k in F:  D[k] = F[k]\n",
       "\u001b[0;31mType:\u001b[0m      builtin_function_or_method"
      ]
     },
     "metadata": {},
     "output_type": "display_data"
    }
   ],
   "source": [
    "?my_dict_1.update"
   ]
  },
  {
   "cell_type": "code",
   "execution_count": null,
   "id": "d0f5cea2-3cdf-4853-aec6-d6a1c8ffd80b",
   "metadata": {},
   "outputs": [],
   "source": []
  }
 ],
 "metadata": {
  "kernelspec": {
   "display_name": "Python 3 (ipykernel)",
   "language": "python",
   "name": "python3"
  },
  "language_info": {
   "codemirror_mode": {
    "name": "ipython",
    "version": 3
   },
   "file_extension": ".py",
   "mimetype": "text/x-python",
   "name": "python",
   "nbconvert_exporter": "python",
   "pygments_lexer": "ipython3",
   "version": "3.11.7"
  }
 },
 "nbformat": 4,
 "nbformat_minor": 5
}
