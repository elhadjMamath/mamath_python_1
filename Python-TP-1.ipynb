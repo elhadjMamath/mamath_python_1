{
 "cells": [
  {
   "cell_type": "markdown",
   "id": "426486dd",
   "metadata": {
    "id": "426486dd"
   },
   "source": [
    "\n",
    "\n",
    "# Practical_1: Variables and Assignments"
   ]
  },
  {
   "cell_type": "markdown",
   "id": "9fb19f0d",
   "metadata": {
    "id": "9fb19f0d"
   },
   "source": [
    "----\n",
    "\n",
    "### Exercise 1:\n",
    "Declare a variable `x` and assign it the value `10`.\n",
    "\n",
    "```python\n",
    "# Exercise 1\n",
    "```\n",
    "\n",
    "---\n",
    "\n",
    "### Exercise 2:\n",
    "Assign the value `True` to a variable called `is_valid`.\n",
    "\n",
    "```python\n",
    "# Exercise 2\n",
    "```\n",
    "\n",
    "---\n",
    "\n",
    "### Exercise 3:\n",
    "Create a string variable `name` with the value \"Python Programming\".\n",
    "\n",
    "```python\n",
    "# Exercise 3\n",
    "```\n",
    "\n",
    "---\n",
    "\n",
    "### Exercise 4:\n",
    "Assign the result of `5 + 3` to a variable `sum_result`.\n",
    "\n",
    "```python\n",
    "# Exercise 4\n",
    "```\n",
    "\n",
    "---\n",
    "\n",
    "### Exercise 5:\n",
    "Assign multiple variables in one line: `a = 5`, `b = 10`, `c = 15`.\n",
    "\n",
    "```python\n",
    "# Exercise 5\n",
    "```\n",
    "\n",
    "---\n",
    "\n",
    "### Exercise 6:\n",
    "Assign the value of one variable `x` to another variable `y`.\n",
    "\n",
    "```python\n",
    "# Exercise 6\n",
    "```\n",
    "\n",
    "---\n",
    "\n",
    "### Exercise 7:\n",
    "Assign a floating-point number `9.8` to a variable `gravity`.\n",
    "\n",
    "```python\n",
    "# Exercise 7\n",
    "```\n",
    "\n",
    "---\n",
    "\n",
    "### Exercise 8:\n",
    "Create a variable `country` and assign it the string value of your favorite country.\n",
    "\n",
    "```python\n",
    "# Exercise 8\n",
    "```\n",
    "\n",
    "---\n",
    "\n",
    "### Exercise 9:\n",
    "Change the value of variable `age` from `25` to `26` in two separate steps.\n",
    "\n",
    "```python\n",
    "# Exercise 9\n",
    "```\n",
    "\n",
    "---\n",
    "\n",
    "### Exercise 10:\n",
    "Use one variable to store the result of subtracting two numbers `20 - 7`.\n",
    "\n",
    "```python\n",
    "# Exercise 10\n",
    "```\n",
    "\n",
    "---\n",
    "\n",
    "### Exercise 11:\n",
    "Assign an integer value and a floating-point value to two different variables.\n",
    "\n",
    "```python\n",
    "# Exercise 11\n",
    "```\n",
    "\n",
    "---\n",
    "\n",
    "### Exercise 12:\n",
    "Assign a boolean value `False` to a variable `is_completed`.\n",
    "\n",
    "```python\n",
    "# Exercise 12\n",
    "```\n",
    "\n",
    "---\n",
    "\n",
    "### Exercise 13:\n",
    "Swap the values of two variables `x` and `y`.\n",
    "\n",
    "```python\n",
    "# Exercise 13\n",
    "```\n",
    "\n",
    "---\n",
    "\n",
    "### Exercise 14:\n",
    "Assign a complex number `3 + 4j` to a variable `complex_num`.\n",
    "\n",
    "```python\n",
    "# Exercise 14\n",
    "```\n",
    "\n",
    "---\n",
    "\n",
    "### Exercise 15:\n",
    "Reassign a variable from an integer to a string.\n",
    "\n",
    "```python\n",
    "# Exercise 15\n",
    "```\n",
    "\n",
    "---\n",
    "\n",
    "### Exercise 16:\n",
    "Create two variables `first_name` and `last_name`, and assign them your first and last names.\n",
    "\n",
    "```python\n",
    "# Exercise 16\n",
    "```\n",
    "\n",
    "---\n",
    "\n",
    "### Exercise 17:\n",
    "Create a variable `temperature` and assign it the value of `35.5`.\n",
    "\n",
    "```python\n",
    "# Exercise 17\n",
    "```\n",
    "\n",
    "---\n",
    "\n",
    "### Exercise 18:\n",
    "Assign the result of the multiplication of two numbers `8 * 6` to a variable `product`.\n",
    "\n",
    "```python\n",
    "# Exercise 18\n",
    "```\n",
    "\n",
    "---\n",
    "\n",
    "### Exercise 19:\n",
    "Assign a sentence of your choice to a variable `sentence`.\n",
    "\n",
    "```python\n",
    "# Exercise 19\n",
    "```\n",
    "\n",
    "---\n",
    "\n",
    "### Exercise 20:\n",
    "Use an assignment to convert a string `'50'` into an integer variable `int_value`.\n",
    "\n",
    "```python\n",
    "# Exercise 20\n",
    "```\n",
    "\n",
    "---\n",
    "\n",
    "### Exercise 21:\n",
    "Assign the result of dividing `144` by `12` to a variable `quotient`.\n",
    "\n",
    "```python\n",
    "# Exercise 21\n",
    "```\n",
    "\n",
    "---\n",
    "\n",
    "### Exercise 22:\n",
    "Assign the remainder of `47 divided by 5` to a variable `remainder`.\n",
    "\n",
    "```python\n",
    "# Exercise 22\n",
    "```\n",
    "\n",
    "---\n",
    "\n",
    "### Exercise 23:\n",
    "Create a variable `is_student` and assign it the value `True`.\n",
    "\n",
    "```python\n",
    "# Exercise 23\n",
    "```\n",
    "\n",
    "---\n",
    "\n",
    "### Exercise 24:\n",
    "Use a variable to store the result of a modulo operation: `45 % 4`.\n",
    "\n",
    "```python\n",
    "# Exercise 24\n",
    "```\n",
    "\n",
    "---\n",
    "\n",
    "### Exercise 25:\n",
    "Create a variable `pi` and assign it the value `3.14159`.\n",
    "\n",
    "```python\n",
    "# Exercise 25\n",
    "```\n",
    "\n",
    "---\n",
    "\n",
    "### Exercise 26:\n",
    "Create two variables `length` and `width`, assign them values, and calculate the area of a rectangle.\n",
    "\n",
    "```python\n",
    "# Exercise 26\n",
    "```\n",
    "\n",
    "---\n",
    "\n",
    "### Exercise 27:\n",
    "Assign a negative number to a variable `negative_value`.\n",
    "\n",
    "```python\n",
    "# Exercise 27\n",
    "```\n",
    "\n",
    "---\n",
    "\n",
    "### Exercise 28:\n",
    "Assign a string containing a special character (e.g., \"Hello, World!\") to a variable `greeting`.\n",
    "\n",
    "```python\n",
    "# Exercise 28\n",
    "```\n",
    "\n",
    "---\n",
    "\n",
    "### Exercise 29:\n",
    "Create a variable `population` and assign it a large integer value (in billions).\n",
    "\n",
    "```python\n",
    "# Exercise 29\n",
    "```\n",
    "\n",
    "---\n",
    "\n",
    "### Exercise 30:\n",
    "Use a variable to store the result of raising `2` to the power of `8`.\n",
    "\n",
    "```python\n",
    "# Exercise 30\n",
    "```\n",
    "\n",
    "---\n",
    "\n",
    "### Exercise 31:\n",
    "Assign a list of your favorite fruits to a variable `fruits`.\n",
    "\n",
    "```python\n",
    "# Exercise 31\n",
    "```\n",
    "\n",
    "---\n",
    "\n",
    "### Exercise 32:\n",
    "Assign a tuple of three numbers to a variable `coordinates`.\n",
    "\n",
    "```python\n",
    "# Exercise 32\n",
    "```\n",
    "\n",
    "---\n",
    "\n",
    "### Exercise 33:\n",
    "Assign a dictionary with keys `name` and `age` to a variable `person`.\n",
    "\n",
    "```python\n",
    "# Exercise 33\n",
    "```\n",
    "\n",
    "---\n",
    "\n",
    "### Exercise 34:\n",
    "Use variables to store the sum of two floating-point numbers.\n",
    "\n",
    "```python\n",
    "# Exercise 34\n",
    "```\n",
    "\n",
    "---\n",
    "\n",
    "### Exercise 35:\n",
    "Create a variable `is_sunny` and assign it the result of a comparison `10 > 5`.\n",
    "\n",
    "```python\n",
    "# Exercise 35\n",
    "```\n",
    "\n",
    "---\n",
    "\n",
    "### Exercise 36:\n",
    "Assign a string and an integer to two different variables, then print both on one line.\n",
    "\n",
    "```python\n",
    "# Exercise 36\n",
    "```\n",
    "\n",
    "---\n",
    "\n",
    "### Exercise 37:\n",
    "Reassign a variable that originally held a number to a boolean value.\n",
    "\n",
    "```python\n",
    "# Exercise 37\n",
    "```\n",
    "\n",
    "---\n",
    "\n",
    "### Exercise 38:\n",
    "Create a variable `is_weekend` and assign it the result of `False`.\n",
    "\n",
    "```python\n",
    "# Exercise 38\n",
    "```\n",
    "\n",
    "---\n",
    "\n",
    "### Exercise 39:\n",
    "Assign a multi-line string to a variable `description`.\n",
    "\n",
    "```python\n",
    "# Exercise 39\n",
    "```\n",
    "\n",
    "---\n",
    "\n",
    "### Exercise 40:\n",
    "Use variables to store the result of the absolute value of `-25`.\n",
    "\n",
    "```python\n",
    "# Exercise 40\n",
    "```\n",
    "\n",
    "---\n",
    "\n",
    "### Exercise 41:\n",
    "Assign the result of a floor division `100 // 6` to a variable `floor_div_result`.\n",
    "\n",
    "```python\n",
    "# Exercise 41\n",
    "```\n",
    "\n",
    "---\n",
    "\n",
    "### Exercise 42:\n",
    "Assign the result of adding a floating-point number to an integer to a variable `mixed_sum`.\n",
    "\n",
    "```python\n",
    "# Exercise 42\n",
    "```\n",
    "\n",
    "---\n",
    "\n",
    "\n",
    "### Exercise 43:\n",
    "Assign a boolean value based on the comparison of two variables `a = 10` and `b = 15`.\n",
    "\n",
    "```python\n",
    "# Exercise 43\n",
    "```\n",
    "\n",
    "---\n",
    "\n",
    "### Exercise 44:\n",
    "Assign a long sentence to a variable and count its characters using `len()`.\n",
    "\n",
    "```python\n",
    "# Exercise 44\n",
    "```\n",
    "\n",
    "---\n",
    "\n",
    "### Exercise 45:\n",
    "Assign a fractional result `7 / 3` to a variable `division_result`.\n",
    "\n",
    "```python\n",
    "# Exercise 45\n",
    "```\n",
    "\n",
    "---\n",
    "\n",
    "### Exercise 46:\n",
    "Create a variable `speed` and assign it the value of 100 kilometers per hour.\n",
    "\n",
    "```python\n",
    "# Exercise 46\n",
    "```\n",
    "\n",
    "---\n",
    "\n",
    "### Exercise 47:\n",
    "Assign a multi-variable equation like `y = 3x + 5` where `x = 4` to a variable `y`.\n",
    "\n",
    "```python\n",
    "# Exercise 47\n",
    "```\n",
    "\n",
    "---\n",
    "\n",
    "### Exercise 48:\n",
    "Use variables to calculate and store the average of three numbers.\n",
    "\n",
    "```python\n",
    "# Exercise 48\n",
    "```\n",
    "\n",
    "****"
   ]
  },
  {
   "cell_type": "markdown",
   "id": "43f651f7-4e17-4db2-838e-e38ab3e243c9",
   "metadata": {},
   "source": [
    "# TP1"
   ]
  },
  {
   "cell_type": "code",
   "execution_count": 2,
   "id": "3939ff7c-c480-4a6b-9c1a-cb16f6a3c1b5",
   "metadata": {},
   "outputs": [],
   "source": [
    "x=10"
   ]
  },
  {
   "cell_type": "code",
   "execution_count": 56,
   "id": "8dd4927e-009f-4cf3-b073-25420f64bfb8",
   "metadata": {},
   "outputs": [],
   "source": [
    "is_valid = True"
   ]
  },
  {
   "cell_type": "code",
   "execution_count": 57,
   "id": "a9d4b05c-4287-4b1d-8959-c45cfaf4e311",
   "metadata": {},
   "outputs": [],
   "source": [
    "name = \" python Programming\""
   ]
  },
  {
   "cell_type": "code",
   "execution_count": 8,
   "id": "493ea70a-f4a1-49f0-bb1b-059542b82988",
   "metadata": {},
   "outputs": [],
   "source": [
    "sum_result = 5 + 3"
   ]
  },
  {
   "cell_type": "code",
   "execution_count": 19,
   "id": "a09864fd-600a-409e-be2a-729c1fff8164",
   "metadata": {},
   "outputs": [],
   "source": [
    "a = 5; b = 10.; c = 15"
   ]
  },
  {
   "cell_type": "code",
   "execution_count": 22,
   "id": "aead4c32-8156-4966-b5c4-4591e0d99588",
   "metadata": {},
   "outputs": [
    {
     "data": {
      "text/plain": [
       "(float, int)"
      ]
     },
     "execution_count": 22,
     "metadata": {},
     "output_type": "execute_result"
    }
   ],
   "source": [
    "type(b) , type(a) "
   ]
  },
  {
   "cell_type": "code",
   "execution_count": 29,
   "id": "0b4664f0-580b-4da4-80bc-31cc3b853fa9",
   "metadata": {},
   "outputs": [
    {
     "name": "stdout",
     "output_type": "stream",
     "text": [
      "12\n",
      "first type of x is <class 'int'>\n",
      "8.0\n"
     ]
    },
    {
     "data": {
      "text/plain": [
       "float"
      ]
     },
     "execution_count": 29,
     "metadata": {},
     "output_type": "execute_result"
    }
   ],
   "source": [
    "#exercice 6\n",
    "x=12 ; y= 8.\n",
    "print(x)\n",
    "print(\"first type of x is\", type(x))\n",
    "x=y\n",
    "print(x)\n",
    "type(x)"
   ]
  },
  {
   "cell_type": "code",
   "execution_count": 31,
   "id": "aed9ca37-da5e-4408-ad32-1d25b8233d89",
   "metadata": {},
   "outputs": [],
   "source": [
    "#EXERCICE 7\n",
    "gravity = 9.8"
   ]
  },
  {
   "cell_type": "code",
   "execution_count": 34,
   "id": "a64a622c-c612-400f-8264-8c4e80f0c94c",
   "metadata": {},
   "outputs": [],
   "source": [
    "#EXERCICE 8\n",
    "country = \"senegal\""
   ]
  },
  {
   "cell_type": "code",
   "execution_count": null,
   "id": "5f0be137-0347-4e3e-a7b5-f3deab15e301",
   "metadata": {},
   "outputs": [],
   "source": [
    "#EXERCICE 9\n",
    "age =25\n",
    "age=26"
   ]
  },
  {
   "cell_type": "code",
   "execution_count": 41,
   "id": "0bc590fe-ee3d-4e7c-b337-fd3e2b087a7f",
   "metadata": {},
   "outputs": [
    {
     "name": "stdin",
     "output_type": "stream",
     "text": [
      "give your age 33\n",
      "give the monthes 5\n"
     ]
    },
    {
     "name": "stdout",
     "output_type": "stream",
     "text": [
      "i have  33 and 5 monthes\n"
     ]
    }
   ],
   "source": [
    "## test\n",
    "age = int(input(\"give your age\")); month= input(\"give the monthes\")\n",
    "print(\"i have \", age, \"and\", month, \"monthes\")"
   ]
  },
  {
   "cell_type": "code",
   "execution_count": 43,
   "id": "1b35aabd-b294-40db-9b4f-3c5bc699ed6d",
   "metadata": {},
   "outputs": [],
   "source": [
    "##EXERCICE 10\n",
    "difference20_7 = 20-7"
   ]
  },
  {
   "cell_type": "code",
   "execution_count": 54,
   "id": "a25cefbb-6aef-4a40-9d89-b0e9d173690b",
   "metadata": {},
   "outputs": [
    {
     "data": {
      "text/plain": [
       "0.22999999999999687"
      ]
     },
     "execution_count": 54,
     "metadata": {},
     "output_type": "execute_result"
    }
   ],
   "source": [
    "##EXERCICE 11\n",
    "Q = 54.23\n",
    "Q1 = int(Q)\n",
    "Q2 = abs(Q-Q1)\n",
    "Q2"
   ]
  },
  {
   "cell_type": "code",
   "execution_count": 58,
   "id": "ef1fc31a-d664-44b7-ba44-620da25f65f7",
   "metadata": {},
   "outputs": [],
   "source": [
    "#EXERCICE 12\n",
    "is_completed = False"
   ]
  },
  {
   "cell_type": "code",
   "execution_count": 82,
   "id": "93739bee-a592-443c-bb89-884b5b05e8fd",
   "metadata": {},
   "outputs": [
    {
     "name": "stdout",
     "output_type": "stream",
     "text": [
      " avant echange x =  88  et y =  33.0\n",
      " apres echange x =  33.0  et y =  88\n"
     ]
    }
   ],
   "source": [
    "#EXERCICE 13\n",
    "x=88;y=33.\n",
    "print(\" avant echange x = \", x , \" et y = \",y )\n",
    "z = y\n",
    "y = x\n",
    "x = z\n",
    "print(\" apres echange x = \", x , \" et y = \",y )"
   ]
  },
  {
   "cell_type": "code",
   "execution_count": 80,
   "id": "5fc881df-defb-486d-8dbc-7a58313f5042",
   "metadata": {},
   "outputs": [
    {
     "data": {
      "text/plain": [
       "complex"
      ]
     },
     "execution_count": 80,
     "metadata": {},
     "output_type": "execute_result"
    }
   ],
   "source": [
    "#EXERCICE 14\n",
    "c = 3+2j\n",
    "type(c)"
   ]
  },
  {
   "cell_type": "code",
   "execution_count": 84,
   "id": "0e76436c-3f2a-451c-93dd-f5043704ec62",
   "metadata": {},
   "outputs": [
    {
     "data": {
      "text/plain": [
       "int"
      ]
     },
     "execution_count": 84,
     "metadata": {},
     "output_type": "execute_result"
    }
   ],
   "source": [
    "#EXERCICE 15 type = chaine de caracter\n",
    "type(y)"
   ]
  },
  {
   "cell_type": "code",
   "execution_count": 85,
   "id": "d6a3bd83-5c77-4342-bc45-63e69992f4cb",
   "metadata": {},
   "outputs": [],
   "source": [
    "#EXERCICE 17\n",
    "first_name = \"ELHADJ\" ; last_name = \"THIAM\""
   ]
  },
  {
   "cell_type": "code",
   "execution_count": 86,
   "id": "627bc5e1-6ef2-497e-8837-c233a8709389",
   "metadata": {},
   "outputs": [],
   "source": [
    "temperature = 35.5"
   ]
  },
  {
   "cell_type": "code",
   "execution_count": 91,
   "id": "789639ce-95a1-4eea-8d22-dd729d50850b",
   "metadata": {},
   "outputs": [],
   "source": [
    "multiplication = 8 * 6"
   ]
  },
  {
   "cell_type": "code",
   "execution_count": 93,
   "id": "fed691f9-35d7-4b99-ae08-d49518d3bb60",
   "metadata": {},
   "outputs": [],
   "source": [
    "sentence = \" I learn python programming at AIMS. \""
   ]
  },
  {
   "cell_type": "code",
   "execution_count": 96,
   "id": "a8e73a56-a13e-4b29-8e4d-f3c1fba7b8f4",
   "metadata": {},
   "outputs": [
    {
     "data": {
      "text/plain": [
       "50"
      ]
     },
     "execution_count": 96,
     "metadata": {},
     "output_type": "execute_result"
    }
   ],
   "source": [
    "s = '50' \n",
    "int_value = int(s)\n",
    "int_value"
   ]
  },
  {
   "cell_type": "code",
   "execution_count": 101,
   "id": "04bf8f36-5d16-4b5a-bb23-3c4b1ad9938d",
   "metadata": {},
   "outputs": [
    {
     "data": {
      "text/plain": [
       "12.0"
      ]
     },
     "execution_count": 101,
     "metadata": {},
     "output_type": "execute_result"
    }
   ],
   "source": [
    "quotient = 144 / 12 \n",
    "quotient"
   ]
  },
  {
   "cell_type": "code",
   "execution_count": 100,
   "id": "ec4782a6-345a-4622-858c-18d65e822af0",
   "metadata": {},
   "outputs": [
    {
     "data": {
      "text/plain": [
       "2"
      ]
     },
     "execution_count": 100,
     "metadata": {},
     "output_type": "execute_result"
    }
   ],
   "source": [
    "remainder=  47 % 5\n",
    "remainder"
   ]
  },
  {
   "cell_type": "code",
   "execution_count": 103,
   "id": "24d6ba5a-2ce5-4be7-9520-d3d410abd473",
   "metadata": {},
   "outputs": [
    {
     "data": {
      "text/plain": [
       "3.14159"
      ]
     },
     "execution_count": 103,
     "metadata": {},
     "output_type": "execute_result"
    }
   ],
   "source": [
    "pi = 3.14159\n",
    "pi"
   ]
  },
  {
   "cell_type": "code",
   "execution_count": 106,
   "id": "e579db49-e840-418f-a00b-0999e2093592",
   "metadata": {},
   "outputs": [
    {
     "data": {
      "text/plain": [
       "198"
      ]
     },
     "execution_count": 106,
     "metadata": {},
     "output_type": "execute_result"
    }
   ],
   "source": [
    "length = 11 ; width = 18\n",
    "rectangl_aer = length * width\n",
    "rectangl_aer"
   ]
  },
  {
   "cell_type": "code",
   "execution_count": 110,
   "id": "1c059243-1976-4f1c-bb99-9b1120b385e2",
   "metadata": {},
   "outputs": [
    {
     "data": {
      "text/plain": [
       "-55"
      ]
     },
     "execution_count": 110,
     "metadata": {},
     "output_type": "execute_result"
    }
   ],
   "source": [
    "negative_value = -55\n",
    "negative_value"
   ]
  },
  {
   "cell_type": "code",
   "execution_count": 108,
   "id": "67b6e821-0eb8-4f0d-8b1b-9ada6351868d",
   "metadata": {},
   "outputs": [],
   "source": [
    "greeting = \" c'est tres dure a AIMS \""
   ]
  },
  {
   "cell_type": "code",
   "execution_count": 109,
   "id": "c52a3a8e-8995-4a33-9e35-c4cb92363387",
   "metadata": {},
   "outputs": [
    {
     "data": {
      "text/plain": [
       "10000000000"
      ]
     },
     "execution_count": 109,
     "metadata": {},
     "output_type": "execute_result"
    }
   ],
   "source": [
    "population = 10000000000\n",
    "population"
   ]
  },
  {
   "cell_type": "code",
   "execution_count": 116,
   "id": "a052de8a-753d-46f9-988f-93a760846ae7",
   "metadata": {},
   "outputs": [
    {
     "data": {
      "text/plain": [
       "256"
      ]
     },
     "execution_count": 116,
     "metadata": {},
     "output_type": "execute_result"
    }
   ],
   "source": [
    "k = 2**8\n",
    "k"
   ]
  },
  {
   "cell_type": "code",
   "execution_count": 118,
   "id": "f4260185-cc7f-4a39-a044-8d29887061e4",
   "metadata": {},
   "outputs": [
    {
     "data": {
      "text/plain": [
       "tuple"
      ]
     },
     "execution_count": 118,
     "metadata": {},
     "output_type": "execute_result"
    }
   ],
   "source": [
    "coordinates = ( 33, 44, 55)\n",
    "coordinates\n",
    "type(coordinates)"
   ]
  },
  {
   "cell_type": "code",
   "execution_count": 122,
   "id": "27b5bfd2-ddc1-4a64-ace1-89d2ec91a3c3",
   "metadata": {},
   "outputs": [
    {
     "data": {
      "text/plain": [
       "{'name': 'ELHADJ', 'age': 26}"
      ]
     },
     "execution_count": 122,
     "metadata": {},
     "output_type": "execute_result"
    }
   ],
   "source": [
    "person = { 'name': \"ELHADJ\", 'age': 26 }\n",
    "person "
   ]
  },
  {
   "cell_type": "code",
   "execution_count": 124,
   "id": "cb629cb2-e037-4bfa-889f-4303c37a33e6",
   "metadata": {},
   "outputs": [
    {
     "data": {
      "text/plain": [
       "9.91"
      ]
     },
     "execution_count": 124,
     "metadata": {},
     "output_type": "execute_result"
    }
   ],
   "source": [
    "p= 5.5+4.41\n",
    "p"
   ]
  },
  {
   "cell_type": "code",
   "execution_count": null,
   "id": "3c7ac7a5-99ab-4868-9278-12409dd2f92b",
   "metadata": {},
   "outputs": [],
   "source": [
    "# Exercice 35 : je ne comprend pas"
   ]
  },
  {
   "cell_type": "code",
   "execution_count": 125,
   "id": "43bde989-7b39-4490-b7e3-5b3cb349d74e",
   "metadata": {},
   "outputs": [
    {
     "name": "stdout",
     "output_type": "stream",
     "text": [
      "elhad est age de  25\n"
     ]
    }
   ],
   "source": [
    "nom = \"elhad\"; age= 25\n",
    "print(nom, \"est age de \", age )"
   ]
  },
  {
   "cell_type": "code",
   "execution_count": 131,
   "id": "b73b78b6-435c-4411-87c6-cd80586c2687",
   "metadata": {},
   "outputs": [],
   "source": [
    "x = 33\n",
    "x = True"
   ]
  },
  {
   "cell_type": "code",
   "execution_count": null,
   "id": "6b9b3564-df26-49cb-b29c-4bfd349bd1e4",
   "metadata": {},
   "outputs": [],
   "source": [
    "is_weekend = False"
   ]
  },
  {
   "cell_type": "code",
   "execution_count": 135,
   "id": "927f0edc-dc44-4823-b7eb-f85e316d73eb",
   "metadata": {},
   "outputs": [
    {
     "data": {
      "text/plain": [
       "'ELHADJ agee de 26 est un etudiant'"
      ]
     },
     "execution_count": 135,
     "metadata": {},
     "output_type": "execute_result"
    }
   ],
   "source": [
    "name = \"ELHADJ\"\n",
    "age = \" agee de 26 \"\n",
    "fonction = \"est un etudiant\"\n",
    "description = name + age + fonction\n",
    "description"
   ]
  },
  {
   "cell_type": "code",
   "execution_count": 137,
   "id": "4a1dfb45-d43e-43d6-871a-9356870afc68",
   "metadata": {},
   "outputs": [
    {
     "data": {
      "text/plain": [
       "25"
      ]
     },
     "execution_count": 137,
     "metadata": {},
     "output_type": "execute_result"
    }
   ],
   "source": [
    "x=abs(-25)\n",
    "x"
   ]
  },
  {
   "cell_type": "code",
   "execution_count": 139,
   "id": "255d5e06-6bc4-4466-aa61-cbedf44b36ae",
   "metadata": {},
   "outputs": [
    {
     "data": {
      "text/plain": [
       "16.666666666666668"
      ]
     },
     "execution_count": 139,
     "metadata": {},
     "output_type": "execute_result"
    }
   ],
   "source": [
    "floor_div_result = 100 / 6\n",
    "floor_div_result "
   ]
  },
  {
   "cell_type": "code",
   "execution_count": 140,
   "id": "64f77c38-3712-449e-a6b6-21f1b0d595f3",
   "metadata": {},
   "outputs": [
    {
     "data": {
      "text/plain": [
       "99.6"
      ]
     },
     "execution_count": 140,
     "metadata": {},
     "output_type": "execute_result"
    }
   ],
   "source": [
    "mixed_sum = 44+55.6\n",
    "mixed_sum"
   ]
  },
  {
   "cell_type": "code",
   "execution_count": 142,
   "id": "bdb716c3-1fed-4397-8bd9-cda53245eee7",
   "metadata": {},
   "outputs": [
    {
     "name": "stdout",
     "output_type": "stream",
     "text": [
      "False\n"
     ]
    },
    {
     "data": {
      "text/plain": [
       "True"
      ]
     },
     "execution_count": 142,
     "metadata": {},
     "output_type": "execute_result"
    }
   ],
   "source": [
    "a = 10; b = 15\n",
    "print(a>b)\n",
    "a<b"
   ]
  },
  {
   "cell_type": "code",
   "execution_count": 145,
   "id": "43f37eab-6945-4681-8d65-fa65b52fef13",
   "metadata": {},
   "outputs": [
    {
     "data": {
      "text/plain": [
       "33"
      ]
     },
     "execution_count": 145,
     "metadata": {},
     "output_type": "execute_result"
    }
   ],
   "source": [
    "len(description)\n",
    "# description = 'ELHADJ agee de 26 est un etudiant'"
   ]
  },
  {
   "cell_type": "code",
   "execution_count": 147,
   "id": "c3d8ff53-2ac9-40bb-b41a-05ee97a613c0",
   "metadata": {},
   "outputs": [
    {
     "data": {
      "text/plain": [
       "2.3333333333333335"
      ]
     },
     "execution_count": 147,
     "metadata": {},
     "output_type": "execute_result"
    }
   ],
   "source": [
    "division_result = 7 / 3\n",
    "division_result"
   ]
  },
  {
   "cell_type": "code",
   "execution_count": 152,
   "id": "4ff34fea-9ec8-4ad3-ac38-694b3ac3cb3b",
   "metadata": {},
   "outputs": [],
   "source": [
    "#exercice 46 je ne comprend pas"
   ]
  },
  {
   "cell_type": "code",
   "execution_count": 155,
   "id": "e8c52493-41f1-4418-b071-0dfbed328c91",
   "metadata": {},
   "outputs": [
    {
     "data": {
      "text/plain": [
       "17"
      ]
     },
     "execution_count": 155,
     "metadata": {},
     "output_type": "execute_result"
    }
   ],
   "source": [
    "x = 4\n",
    "y = 3*x + 5\n",
    "y"
   ]
  },
  {
   "cell_type": "code",
   "execution_count": 156,
   "id": "3c6b1856-19cf-4784-9ebd-4be170896adb",
   "metadata": {},
   "outputs": [
    {
     "data": {
      "text/plain": [
       "22.0"
      ]
     },
     "execution_count": 156,
     "metadata": {},
     "output_type": "execute_result"
    }
   ],
   "source": [
    "x = 11\n",
    "c =22\n",
    "v = 33\n",
    "s= x+c+v\n",
    "moyenne = s/3\n",
    "moyenne"
   ]
  },
  {
   "cell_type": "code",
   "execution_count": null,
   "id": "9c7f777f-db9a-4b96-823e-be6291d6c6de",
   "metadata": {},
   "outputs": [],
   "source": []
  },
  {
   "cell_type": "code",
   "execution_count": null,
   "id": "e82cc486-1b7b-4132-b847-825228a656b8",
   "metadata": {},
   "outputs": [],
   "source": []
  }
 ],
 "metadata": {
  "colab": {
   "provenance": []
  },
  "kernelspec": {
   "display_name": "Python [conda env:base] *",
   "language": "python",
   "name": "conda-base-py"
  },
  "language_info": {
   "codemirror_mode": {
    "name": "ipython",
    "version": 3
   },
   "file_extension": ".py",
   "mimetype": "text/x-python",
   "name": "python",
   "nbconvert_exporter": "python",
   "pygments_lexer": "ipython3",
   "version": "3.12.7"
  }
 },
 "nbformat": 4,
 "nbformat_minor": 5
}
